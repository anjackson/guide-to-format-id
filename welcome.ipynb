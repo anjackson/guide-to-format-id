{
 "cells": [
  {
   "cell_type": "markdown",
   "metadata": {},
   "source": [
    "Welcome to your DigiPres Sandbox!\n",
    "=================================\n",
    "\n",
    "This is place to play with the [DigiPres Toolbox](https://github.com/digipres/toolbox), which uses [Binder](https://jupyter.org/binder) to provide temporary cloud-hosted Linux computers than you can experiment with.  Some tools are already installed, and you can install other ones too without affecting anyone else or causing any irreversible issues. If it all goes wrong, just close the tab and re-launch the sandbox!\n",
    "\n",
    "Right now, this sandbox just provides a place to experiment, with only a few examples. If you'd like to see more things here, or add things here, please [get in touch](https://github.com/digipres/registries-of-practice-project?tab=readme-ov-file#communication-and-collaboration)\n",
    "\n",
    "## Getting Started\n",
    "\n",
    "This _Welcome_ page is the first in a set of [Jupyter](https://https://jupyter.org/) notebooks provides some examples of things you can play with, either directly or in the command-line _Terminal_ below.  But unlike most Jupyter notebooks, most of the ones here are set up to run Linux commands directly, rather than run Python scripts.\n",
    "\n",
    "For example, if you want to see the details of all the files in the current 'home' directory, you can run this command (here or down there in the _Terminal_):"
   ]
  },
  {
   "cell_type": "code",
   "execution_count": 6,
   "metadata": {},
   "outputs": [
    {
     "name": "stdout",
     "output_type": "stream",
     "text": [
      "total 60\n",
      "-rw-r--r-- 1 anj anj  1112 Aug 23 16:52 Dockerfile\n",
      "-rw-r--r-- 1 anj anj 34523 Aug 23 08:44 LICENSE\n",
      "-rw-r--r-- 1 anj anj  1951 Aug 23 13:41 README.md\n",
      "-rwxr-xr-x 1 anj anj    51 Aug 23 11:01 build-and-run-here.sh\n",
      "drwxr-xr-x 3 anj anj  4096 Aug 23 17:02 notebooks\n",
      "drwxr-xr-x 2 anj anj  4096 Aug 23 08:44 test-files\n",
      "-rw-r--r-- 1 anj anj  3489 Aug 23 17:12 welcome.ipynb\n"
     ]
    }
   ],
   "source": [
    "ls -l"
   ]
  },
  {
   "cell_type": "markdown",
   "metadata": {},
   "source": [
    "This matches up with what's being shown over on the left, where the file interface lets you explore the contents of this directory.\n",
    "\n",
    "<div class=\"alert alert-danger\">\n",
    "Note that the left-hand panel includes a <i>File Upload</i> button you can use to add your own files to work with. However, this cloud system is not designed with security in mind, so <b>don't upload anything sensitive!</b>\n",
    "</div>\n",
    "\n",
    "You can also use commands to look around... Here, we use the special `~/` syntax to make sure were working from the 'home' folder:"
   ]
  },
  {
   "cell_type": "code",
   "execution_count": 8,
   "metadata": {},
   "outputs": [
    {
     "name": "stdout",
     "output_type": "stream",
     "text": [
      "total 244\n",
      "-rw-r--r-- 1 anj anj 85991 Aug 23 08:44 lorem-ipsum-libreoffice-4.3.2.2.odt\n",
      "-rw-r--r-- 1 anj anj 35840 Aug 23 08:44 lorem-ipsum.doc\n",
      "-rw-r--r-- 1 anj anj 28122 Aug 23 08:44 lorem-ipsum.htm\n",
      "-rw-r--r-- 1 anj anj 36972 Aug 23 08:44 lorem-ipsum.oo3.2.export-pdfa.pdf\n",
      "-rw-r--r-- 1 anj anj  4468 Aug 23 08:44 lorem-ipsum.txt\n",
      "-rw-r--r-- 1 anj anj 47700 Aug 23 08:44 png.mov\n"
     ]
    }
   ],
   "source": [
    "ls -l ~/test-files/"
   ]
  },
  {
   "cell_type": "markdown",
   "metadata": {},
   "source": [
    "This machine comes with a number of tools pre-installed, including:\n",
    "\n",
    " - [Siegfried](https://www.itforarchivists.com/siegfried)\n",
    " - [File](https://www.darwinsys.com/file/)\n",
    " - [TrID](http://mark0.net/soft-trid-e.html)\n",
    " - [MediaInfo](https://github.com/MediaArea/MediaInfo)\n",
    " - [CLOC](https://github.com/AlDanial/cloc)\n",
    "\n",
    "So you can use e.g. Siegfried to check what formats we have:"
   ]
  },
  {
   "cell_type": "code",
   "execution_count": 1,
   "metadata": {},
   "outputs": [
    {
     "name": "stdout",
     "output_type": "stream",
     "text": [
      "---\n",
      "siegfried   : 1.11.1\n",
      "scandate    : 2024-08-23T17:35:49Z\n",
      "signature   : default.sig\n",
      "created     : 2024-06-21T16:01:11+10:00\n",
      "identifiers : \n",
      "  - name    : 'pronom'\n",
      "    details : 'DROID_SignatureFile_V118.xml; container-signature-20240501.xml'\n",
      "---\n",
      "filename : '/home/anj/test-files/lorem-ipsum.doc'\n",
      "filesize : 35840\n",
      "modified : 2024-08-23T08:44:44Z\n",
      "errors   : \n",
      "matches  :\n",
      "  - ns      : 'pronom'\n",
      "    id      : 'fmt/40'\n",
      "    format  : 'Microsoft Word Document'\n",
      "    version : '97-2003'\n",
      "    mime    : 'application/msword'\n",
      "    class   : 'Word Processor'\n",
      "    basis   : 'extension match doc; container name CompObj with byte match at 72, 20; name WordDocument with name only'\n",
      "    warning : \n"
     ]
    }
   ],
   "source": [
    "sf ~/test-files/lorem-ipsum.doc"
   ]
  },
  {
   "cell_type": "markdown",
   "metadata": {},
   "source": [
    "Or use the common Linux tool, `file`:"
   ]
  },
  {
   "cell_type": "code",
   "execution_count": 3,
   "metadata": {},
   "outputs": [
    {
     "name": "stdout",
     "output_type": "stream",
     "text": [
      "/home/anj/test-files/lorem-ipsum.doc: Composite Document File V2 Document, Little Endian, Os: MacOS, Version 10.3, Code page: 10000, Author: Andrew Jackson, Template: Normal.dotm, Last Saved By: Andrew Jackson, Revision Number: 2, Name of Creating Application: Microsoft Macintosh Word, Total Editing Time: 01:00, Create Time/Date: Tue Apr 17 15:41:00 2012, Last Saved Time/Date: Tue Apr 17 15:41:00 2012, Number of Pages: 2, Number of Words: 669, Number of Characters: 3814, Security: 0\n"
     ]
    }
   ],
   "source": [
    "file ~/test-files/lorem-ipsum.doc"
   ]
  },
  {
   "cell_type": "markdown",
   "metadata": {},
   "source": [
    "## Installing More Tools\n",
    "If you want to see how to install additional software, take a look at [this notebook that install ffmpeg](./notebooks/ffmpeg.ipynb)."
   ]
  },
  {
   "cell_type": "code",
   "execution_count": null,
   "metadata": {},
   "outputs": [],
   "source": []
  }
 ],
 "metadata": {
  "kernelspec": {
   "display_name": "Bash",
   "language": "bash",
   "name": "bash"
  },
  "language_info": {
   "codemirror_mode": "shell",
   "file_extension": ".sh",
   "mimetype": "text/x-sh",
   "name": "bash"
  }
 },
 "nbformat": 4,
 "nbformat_minor": 4
}
