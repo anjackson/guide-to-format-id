{
 "cells": [
  {
   "cell_type": "markdown",
   "metadata": {},
   "source": [
    "Ident-O-Matic\n",
    "===========\n",
    "\n",
    "So, what we got..."
   ]
  },
  {
   "cell_type": "code",
   "execution_count": 1,
   "metadata": {},
   "outputs": [],
   "source": [
    "import os\n",
    "import ipywidgets as widgets\n",
    "from IPython.display import display, HTML, clear_output\n",
    "import fileupload\n",
    "import subprocess\n",
    "import tempfile"
   ]
  },
  {
   "cell_type": "code",
   "execution_count": 10,
   "metadata": {},
   "outputs": [
    {
     "data": {
      "application/vnd.jupyter.widget-view+json": {
       "model_id": "2e91d359d50c4bbca7815cdc4fc260e2",
       "version_major": 2,
       "version_minor": 0
      },
      "text/plain": [
       "VBox(children=(Tab(children=(VBox(children=(HTML(value='Select an example file to analyse:'), Dropdown(layout=…"
      ]
     },
     "metadata": {},
     "output_type": "display_data"
    }
   ],
   "source": [
    "#This is where the results go...\n",
    "results = widgets.Output()\n",
    "\n",
    "tmp_dir = tempfile.mkdtemp()\n",
    "tmp_file = None\n",
    "\n",
    "def clear_all(b):\n",
    "    #select_csv.value =o ptions[0][1]\n",
    "    csv_url.value = ''\n",
    "    results.clear_output()\n",
    "\n",
    "def analyse_csv(b):\n",
    "    '''\n",
    "    Try to open the CSV file, and start the analysis.\n",
    "    '''\n",
    "    # Hacky reliance on global here:\n",
    "    global tab\n",
    "    # This makes sure the results get used properly:\n",
    "    results.clear_output()\n",
    "    with results:\n",
    "        if tab.selected_index == 2:\n",
    "            output = subprocess.run([\"sf\", \"-json\", tmp_file], stdout=subprocess.PIPE, stderr=subprocess.PIPE).stdout.decode('utf-8')\n",
    "            display(HTML(\"<pre>%s</pre>\" % output))\n",
    "\n",
    "def _cb(change):\n",
    "    # Hacky reliance on global here:\n",
    "    global tmp_file\n",
    "    filename = change['owner'].filename\n",
    "    tmp_file = os.path.join(tmp_dir, filename)\n",
    "    #print('Storing to %s' % tmp_file)\n",
    "    with open(tmp_file,\"wb\") as f:\n",
    "        f.write(change['owner'].data)\n",
    "    _upload_label.value= 'Uploaded `{}` ({:.2f} kB)'.format(\n",
    "        filename, len(change['owner'].data) / 2 **10)\n",
    "\n",
    "_upload_widget = fileupload.FileUploadWidget()\n",
    "_upload_widget.observe(_cb, names='data')\n",
    "_upload_label = widgets.Label(value=\"\")\n",
    "\n",
    "upload_tab = widgets.VBox([_upload_widget, _upload_label])\n",
    "\n",
    "select_csv = widgets.Dropdown(\n",
    "        options=[],\n",
    "        description='',\n",
    "        disabled=False,\n",
    "        layout=widgets.Layout(width='90%')\n",
    "    )\n",
    "\n",
    "csv_url = widgets.Text(\n",
    "        placeholder='Enter the URL to fetch',\n",
    "        description='URL:',\n",
    "        disabled=False,\n",
    "        layout=widgets.Layout(width='90%')\n",
    "    )\n",
    "\n",
    "clear_button = widgets.Button(\n",
    "        description='Clear',\n",
    "        disabled=False,\n",
    "        button_style='', # 'success', 'info', 'warning', 'danger' or ''\n",
    "        tooltip='Clear current data',\n",
    "        icon=''\n",
    "    )\n",
    "\n",
    "analyse_button = widgets.Button(\n",
    "        description='Analyse',\n",
    "        disabled=False,\n",
    "        button_style='primary', # 'success', 'info', 'warning', 'danger' or ''\n",
    "        tooltip='Analyse',\n",
    "        icon=''\n",
    "    )\n",
    "\n",
    "clear_button.on_click(clear_all)\n",
    "analyse_button.on_click(analyse_csv)\n",
    "select_note = widgets.HTML('Select an example file to analyse:')\n",
    "select_tab = widgets.VBox([select_note, select_csv])\n",
    "tab = widgets.Tab(children=[select_tab, csv_url, upload_tab ])\n",
    "tab.set_title(0, 'Select example')\n",
    "tab.set_title(1, 'Fetch from URL')\n",
    "tab.set_title(2, 'Upload')\n",
    "display(widgets.VBox([tab, widgets.HBox([analyse_button, clear_button]), results]))"
   ]
  },
  {
   "cell_type": "code",
   "execution_count": 56,
   "metadata": {},
   "outputs": [
    {
     "name": "stdout",
     "output_type": "stream",
     "text": [
      "/tmp/tmphk4vw8ix/datacite-1.xml: text/xml; charset=us-ascii\r\n"
     ]
    }
   ],
   "source": [
    "!file --mime /tmp/tmphk4vw8ix/datacite-1.xml"
   ]
  },
  {
   "cell_type": "code",
   "execution_count": 57,
   "metadata": {},
   "outputs": [
    {
     "name": "stdout",
     "output_type": "stream",
     "text": [
      "---\r\n",
      "siegfried   : 1.7.11\r\n",
      "scandate    : 2019-06-15T21:32:11Z\r\n",
      "signature   : default.sig\r\n",
      "created     : 2019-02-16T11:09:29+01:00\r\n",
      "identifiers : \r\n",
      "  - name    : 'pronom'\r\n",
      "    details : 'DROID_SignatureFile_V94.xml; container-signature-20180917.xml'\r\n",
      "---\r\n",
      "filename : '/tmp/tmphk4vw8ix/datacite-1.xml'\r\n",
      "filesize : 826\r\n",
      "modified : 2019-06-15T21:30:45Z\r\n",
      "errors   : \r\n",
      "matches  :\r\n",
      "  - ns      : 'pronom'\r\n",
      "    id      : 'fmt/101'\r\n",
      "    format  : 'Extensible Markup Language'\r\n",
      "    version : '1.0'\r\n",
      "    mime    : 'application/xml'\r\n",
      "    basis   : 'extension match xml; byte match at 0, 19'\r\n",
      "    warning : \r\n"
     ]
    }
   ],
   "source": [
    "!sf /tmp/tmphk4vw8ix/datacite-1.xml"
   ]
  },
  {
   "cell_type": "code",
   "execution_count": null,
   "metadata": {},
   "outputs": [],
   "source": [
    "!"
   ]
  },
  {
   "cell_type": "code",
   "execution_count": null,
   "metadata": {},
   "outputs": [],
   "source": []
  },
  {
   "cell_type": "markdown",
   "metadata": {},
   "source": [
    "Created by [Andrew Jackson](https://anjackson.net/).\n",
    "\n",
    "See https://www.digipres.net/guides/format-id/ for more information."
   ]
  },
  {
   "cell_type": "code",
   "execution_count": null,
   "metadata": {},
   "outputs": [],
   "source": []
  },
  {
   "cell_type": "code",
   "execution_count": null,
   "metadata": {},
   "outputs": [],
   "source": []
  }
 ],
 "metadata": {
  "kernelspec": {
   "display_name": "Python 3",
   "language": "python",
   "name": "python3"
  },
  "language_info": {
   "codemirror_mode": {
    "name": "ipython",
    "version": 3
   },
   "file_extension": ".py",
   "mimetype": "text/x-python",
   "name": "python",
   "nbconvert_exporter": "python",
   "pygments_lexer": "ipython3",
   "version": "3.7.3"
  }
 },
 "nbformat": 4,
 "nbformat_minor": 2
}
