{
 "cells": [
  {
   "cell_type": "markdown",
   "id": "ea612193-2a00-4399-a859-66d8d2d75948",
   "metadata": {},
   "source": [
    "# Installing and using pdfcpu\n",
    "\n",
    "As we can't install proper operating system packages, we need to find a 64-bit Linux binary download and use that instead.  Taking [pdfcpu](https://pdfcpu.io/), we [look around for the URL of a suitable Linux package](https://github.com/pdfcpu/pdfcpu/releases). The 64-bit variants are usually marked as `x86_64` or `i686` or `amd64`. Any of those should work, but `i686` is optimised for Intel chips and `amd64` is optimised for AMD ones.\n",
    "\n",
    "We can then download to a file, following any link redirections to get there..."
   ]
  },
  {
   "cell_type": "code",
   "execution_count": 1,
   "id": "2a24db20-cac5-494c-b3f3-1bda33e2bbe0",
   "metadata": {},
   "outputs": [
    {
     "name": "stdout",
     "output_type": "stream",
     "text": [
      "  % Total    % Received % Xferd  Average Speed   Time    Time     Time  Current\n",
      "                                 Dload  Upload   Total   Spent    Left  Speed\n",
      "  0     0    0     0    0     0      0      0 --:--:-- --:--:-- --:--:--     0\n",
      "100 4106k  100 4106k    0     0  1789k      0  0:00:02  0:00:02 --:--:-- 2540k\n"
     ]
    }
   ],
   "source": [
    "curl -O -L https://github.com/pdfcpu/pdfcpu/releases/download/v0.8.0/pdfcpu_0.8.0_Linux_x86_64.tar.xz"
   ]
  },
  {
   "cell_type": "markdown",
   "id": "5d30f6af-1f1a-459a-af1b-96dbfba44dff",
   "metadata": {},
   "source": [
    "Then unpack it:"
   ]
  },
  {
   "cell_type": "code",
   "execution_count": 2,
   "id": "b7d7bf06-c72b-4853-8e3b-bd4ea4f9c866",
   "metadata": {},
   "outputs": [
    {
     "name": "stdout",
     "output_type": "stream",
     "text": [
      "pdfcpu_0.8.0_Linux_x86_64/LICENSE.txt\n",
      "pdfcpu_0.8.0_Linux_x86_64/README.md\n",
      "pdfcpu_0.8.0_Linux_x86_64/pdfcpu\n"
     ]
    }
   ],
   "source": [
    "tar xvf pdfcpu_0.8.0_Linux_x86_64.tar.xz"
   ]
  },
  {
   "cell_type": "markdown",
   "id": "2d5cd213-0f6c-4c05-b403-ccb170b41570",
   "metadata": {},
   "source": [
    "Then finally, run the `pdfcpu` program on one of the test files:"
   ]
  },
  {
   "cell_type": "code",
   "execution_count": 5,
   "id": "7b59423a-de86-4f7f-bd31-51f0eb0fcae7",
   "metadata": {},
   "outputs": [
    {
     "name": "stdout",
     "output_type": "stream",
     "text": [
      "/home/anj/test-files/lorem-ipsum.oo3.2.export-pdfa.pdf:\n",
      "              Source: /home/anj/test-files/lorem-ipsum.oo3.2.export-pdfa.pdf\n",
      "         PDF version: 1.4\n",
      "          Page count: 1\n",
      "          Page sizes: 595.00 x 842.00 points\n",
      "━━━━━━━━━━━━━━━━━━━━━━━━━━━━━━━━━━━━━━━━━━━━\n",
      "               Title: \n",
      "              Author: \n",
      "             Subject: \n",
      "        PDF Producer: OpenOffice.org 3.2\n",
      "     Content creator: Writer\n",
      "       Creation date: D:20101208104729+00'00'\n",
      "   Modification date: \n",
      "━━━━━━━━━━━━━━━━━━━━━━━━━━━━━━━━━━━━━━━━━━━━\n",
      "              Tagged: Yes\n",
      "              Hybrid: No\n",
      "          Linearized: No\n",
      "  Using XRef streams: No\n",
      "Using object streams: No\n",
      "         Watermarked: No\n",
      "          Thumbnails: No\n",
      "                Form: No\n",
      "            Outlines: Yes\n",
      "               Names: No\n",
      "━━━━━━━━━━━━━━━━━━━━━━━━━━━━━━━━━━━━━━━━━━━━\n",
      "           Encrypted: No\n",
      "         Permissions: Full access\n"
     ]
    }
   ],
   "source": [
    "pdfcpu_0.8.0_Linux_x86_64/pdfcpu info ~/test-files/lorem-ipsum.oo3.2.export-pdfa.pdf"
   ]
  },
  {
   "cell_type": "code",
   "execution_count": null,
   "id": "f8817f47-a374-4a1a-a403-db6a86fbb9a8",
   "metadata": {},
   "outputs": [],
   "source": []
  }
 ],
 "metadata": {
  "kernelspec": {
   "display_name": "Bash",
   "language": "bash",
   "name": "bash"
  },
  "language_info": {
   "codemirror_mode": "shell",
   "file_extension": ".sh",
   "mimetype": "text/x-sh",
   "name": "bash"
  }
 },
 "nbformat": 4,
 "nbformat_minor": 5
}
