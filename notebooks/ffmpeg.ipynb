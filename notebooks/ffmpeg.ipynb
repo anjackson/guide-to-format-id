{
 "cells": [
  {
   "cell_type": "markdown",
   "id": "ee9264c8-779b-4956-a923-d21e4a19dff4",
   "metadata": {},
   "source": [
    "# FFmpeg\n",
    "\n",
    "[FFmpeg](https://www.ffmpeg.org/)"
   ]
  },
  {
   "cell_type": "markdown",
   "id": "68184985-19c9-4527-8f0b-e9f0511eaedb",
   "metadata": {},
   "source": [
    "Run it on one of the test files, and show how to get the output as JSON..."
   ]
  },
  {
   "cell_type": "code",
   "execution_count": 1,
   "id": "fd7901f9-d658-4919-8cb7-c6dec6a5dba3",
   "metadata": {},
   "outputs": [
    {
     "name": "stdout",
     "output_type": "stream",
     "text": [
      "{\n",
      "    \"streams\": [\n",
      "        {\n",
      "            \"index\": 0,\n",
      "            \"codec_name\": \"png\",\n",
      "            \"codec_long_name\": \"PNG (Portable Network Graphics) image\",\n",
      "            \"codec_type\": \"video\",\n",
      "            \"codec_time_base\": \"1/25\",\n",
      "            \"codec_tag_string\": \"png \",\n",
      "            \"codec_tag\": \"0x20676e70\",\n",
      "            \"width\": 320,\n",
      "            \"height\": 240,\n",
      "            \"coded_width\": 320,\n",
      "            \"coded_height\": 240,\n",
      "            \"closed_captions\": 0,\n",
      "            \"has_b_frames\": 0,\n",
      "            \"sample_aspect_ratio\": \"1:1\",\n",
      "            \"display_aspect_ratio\": \"4:3\",\n",
      "            \"pix_fmt\": \"rgba\",\n",
      "            \"level\": -99,\n",
      "            \"color_range\": \"pc\",\n",
      "            \"refs\": 1,\n",
      "            \"r_frame_rate\": \"25/1\",\n",
      "            \"avg_frame_rate\": \"25/1\",\n",
      "            \"time_base\": \"1/25\",\n",
      "            \"start_pts\": 0,\n",
      "            \"start_time\": \"0.000000\",\n",
      "            \"duration_ts\": 25,\n",
      "            \"duration\": \"1.000000\",\n",
      "            \"bit_rate\": \"374488\",\n",
      "            \"nb_frames\": \"25\",\n",
      "            \"disposition\": {\n",
      "                \"default\": 1,\n",
      "                \"dub\": 0,\n",
      "                \"original\": 0,\n",
      "                \"comment\": 0,\n",
      "                \"lyrics\": 0,\n",
      "                \"karaoke\": 0,\n",
      "                \"forced\": 0,\n",
      "                \"hearing_impaired\": 0,\n",
      "                \"visual_impaired\": 0,\n",
      "                \"clean_effects\": 0,\n",
      "                \"attached_pic\": 0,\n",
      "                \"timed_thumbnails\": 0\n",
      "            },\n",
      "            \"tags\": {\n",
      "                \"creation_time\": \"2012-11-16T18:44:44.000000Z\",\n",
      "                \"language\": \"eng\",\n",
      "                \"handler_name\": \"Apple Video Media Handler\",\n",
      "                \"encoder\": \"PNG\"\n",
      "            }\n",
      "        }\n",
      "    ],\n",
      "    \"format\": {\n",
      "        \"filename\": \"/home/anj/test-files/png.mov\",\n",
      "        \"nb_streams\": 1,\n",
      "        \"nb_programs\": 0,\n",
      "        \"format_name\": \"mov,mp4,m4a,3gp,3g2,mj2\",\n",
      "        \"format_long_name\": \"QuickTime / MOV\",\n",
      "        \"start_time\": \"0.000000\",\n",
      "        \"duration\": \"1.000000\",\n",
      "        \"size\": \"47700\",\n",
      "        \"bit_rate\": \"381600\",\n",
      "        \"probe_score\": 100,\n",
      "        \"tags\": {\n",
      "            \"major_brand\": \"qt  \",\n",
      "            \"minor_version\": \"537199360\",\n",
      "            \"compatible_brands\": \"qt  \",\n",
      "            \"creation_time\": \"2012-11-16T18:44:44.000000Z\"\n",
      "        }\n",
      "    }\n",
      "}\n"
     ]
    }
   ],
   "source": [
    "ffprobe -v quiet -print_format json -show_format -show_streams ~/test-files/png.mov"
   ]
  },
  {
   "cell_type": "code",
   "execution_count": null,
   "id": "1edb2f31-39f7-486e-b3e0-32e5289cc21b",
   "metadata": {},
   "outputs": [],
   "source": []
  },
  {
   "cell_type": "code",
   "execution_count": null,
   "id": "6a2d5d44-04c4-46c4-8551-3308045bc2ff",
   "metadata": {},
   "outputs": [],
   "source": []
  },
  {
   "cell_type": "code",
   "execution_count": null,
   "id": "77c5c6e5-a1d4-4ec2-b5f1-a02b3f48bc85",
   "metadata": {},
   "outputs": [],
   "source": []
  }
 ],
 "metadata": {
  "kernelspec": {
   "display_name": "Bash",
   "language": "bash",
   "name": "bash"
  },
  "language_info": {
   "codemirror_mode": "shell",
   "file_extension": ".sh",
   "mimetype": "text/x-sh",
   "name": "bash"
  }
 },
 "nbformat": 4,
 "nbformat_minor": 5
}
