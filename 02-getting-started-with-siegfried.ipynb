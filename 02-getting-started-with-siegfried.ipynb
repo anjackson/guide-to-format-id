{
 "cells": [
  {
   "cell_type": "code",
   "execution_count": 1,
   "metadata": {},
   "outputs": [
    {
     "name": "stdout",
     "output_type": "stream",
     "text": [
      "2019/06/14 22:45:23 [FATAL] expecting one or more file or directory arguments (or '-' to scan stdin)\n"
     ]
    },
    {
     "ename": "",
     "evalue": "1",
     "output_type": "error",
     "traceback": []
    }
   ],
   "source": [
    "sf"
   ]
  },
  {
   "cell_type": "code",
   "execution_count": 11,
   "metadata": {},
   "outputs": [
    {
     "name": "stdout",
     "output_type": "stream",
     "text": [
      "---\n",
      "siegfried   : 1.7.11\n",
      "scandate    : 2019-06-16T16:30:37Z\n",
      "signature   : deluxe.sig\n",
      "created     : 2019-02-16T11:10:03+01:00\n",
      "identifiers : \n",
      "  - name    : 'pronom'\n",
      "    details : 'DROID_SignatureFile_V94.xml; container-signature-20180917.xml'\n",
      "  - name    : 'tika'\n",
      "    details : 'tika-mimetypes.xml (1.20, 2018-12-17)'\n",
      "  - name    : 'freedesktop.org'\n",
      "    details : 'freedesktop.org.xml (1.10, 2018-28-06)'\n",
      "  - name    : 'loc'\n",
      "    details : 'fddXML.zip (2019-01-06, DROID_SignatureFile_V94.xml, container-signature-20180917.xml)'\n",
      "---\n",
      "filename : 'tika-app.jar'\n",
      "filesize : 75707056\n",
      "modified : 2019-06-16T16:12:14Z\n",
      "errors   : \n",
      "matches  :\n",
      "  - ns      : 'pronom'\n",
      "    id      : 'x-fmt/412'\n",
      "    format  : 'Java Archive Format'\n",
      "    version : \n",
      "    mime    : 'application/java-archive'\n",
      "    basis   : 'extension match jar; container name META-INF/MANIFEST.MF with byte match at 0, 17'\n",
      "    warning : \n",
      "  - ns      : 'tika'\n",
      "    id      : 'application/java-archive'\n",
      "    format  : 'Java Archive'\n",
      "    mime    : 'application/java-archive'\n",
      "    basis   : 'extension match jar; byte match at 0, 4 (signature 1/3)'\n",
      "    warning : \n",
      "  - ns      : 'freedesktop.org'\n",
      "    id      : 'application/x-java-archive'\n",
      "    format  : 'Java archive'\n",
      "    mime    : 'application/x-java-archive'\n",
      "    basis   : 'extension match jar; byte match at 0, 4'\n",
      "    warning : \n",
      "  - ns      : 'loc'\n",
      "    id      : 'UNKNOWN'\n",
      "    format  : \n",
      "    full    : \n",
      "    mime    : \n",
      "    basis   : \n",
      "    warning : 'no match'\n"
     ]
    }
   ],
   "source": [
    "sf -sig deluxe.sig tika-app.jar"
   ]
  },
  {
   "cell_type": "code",
   "execution_count": 10,
   "metadata": {},
   "outputs": [
    {
     "name": "stdout",
     "output_type": "stream",
     "text": [
      "{\n",
      "    \"siegfried\": \"1.7.11\",\n",
      "    \"scandate\": \"2019-06-16T16:30:23Z\",\n",
      "    \"signature\": \"deluxe.sig\",\n",
      "    \"created\": \"2019-02-16T11:10:03+01:00\",\n",
      "    \"identifiers\": [\n",
      "        {\n",
      "            \"name\": \"pronom\",\n",
      "            \"details\": \"DROID_SignatureFile_V94.xml; container-signature-20180917.xml\"\n",
      "        },\n",
      "        {\n",
      "            \"name\": \"tika\",\n",
      "            \"details\": \"tika-mimetypes.xml (1.20, 2018-12-17)\"\n",
      "        },\n",
      "        {\n",
      "            \"name\": \"freedesktop.org\",\n",
      "            \"details\": \"freedesktop.org.xml (1.10, 2018-28-06)\"\n",
      "        },\n",
      "        {\n",
      "            \"name\": \"loc\",\n",
      "            \"details\": \"fddXML.zip (2019-01-06, DROID_SignatureFile_V94.xml, container-signature-20180917.xml)\"\n",
      "        }\n",
      "    ],\n",
      "    \"files\": [\n",
      "        {\n",
      "            \"filename\": \"tika-app.jar\",\n",
      "            \"filesize\": 75707056,\n",
      "            \"modified\": \"2019-06-16T16:12:14Z\",\n",
      "            \"errors\": \"\",\n",
      "            \"matches\": [\n",
      "                {\n",
      "                    \"ns\": \"pronom\",\n",
      "                    \"id\": \"x-fmt/412\",\n",
      "                    \"format\": \"Java Archive Format\",\n",
      "                    \"version\": \"\",\n",
      "                    \"mime\": \"application/java-archive\",\n",
      "                    \"basis\": \"extension match jar; container name META-INF/MANIFEST.MF with byte match at 0, 17\",\n",
      "                    \"warning\": \"\"\n",
      "                },\n",
      "                {\n",
      "                    \"ns\": \"tika\",\n",
      "                    \"id\": \"application/java-archive\",\n",
      "                    \"format\": \"Java Archive\",\n",
      "                    \"mime\": \"application/java-archive\",\n",
      "                    \"basis\": \"extension match jar; byte match at 0, 4 (signature 1/3)\",\n",
      "                    \"warning\": \"\"\n",
      "                },\n",
      "                {\n",
      "                    \"ns\": \"freedesktop.org\",\n",
      "                    \"id\": \"application/x-java-archive\",\n",
      "                    \"format\": \"Java archive\",\n",
      "                    \"mime\": \"application/x-java-archive\",\n",
      "                    \"basis\": \"extension match jar; byte match at 0, 4\",\n",
      "                    \"warning\": \"\"\n",
      "                },\n",
      "                {\n",
      "                    \"ns\": \"loc\",\n",
      "                    \"id\": \"UNKNOWN\",\n",
      "                    \"format\": \"\",\n",
      "                    \"full\": \"\",\n",
      "                    \"mime\": \"\",\n",
      "                    \"basis\": \"\",\n",
      "                    \"warning\": \"no match\"\n",
      "                }\n",
      "            ]\n",
      "        }\n",
      "    ]\n",
      "}\n"
     ]
    }
   ],
   "source": [
    "sf -json -sig deluxe.sig tika-app.jar | python -m json.tool"
   ]
  },
  {
   "cell_type": "code",
   "execution_count": 3,
   "metadata": {},
   "outputs": [
    {
     "name": "stdout",
     "output_type": "stream",
     "text": [
      "/usr/share/siegfried/archivematica.sig\n",
      "/usr/share/siegfried/default.sig\n",
      "/usr/share/siegfried/deluxe.sig\n",
      "/usr/share/siegfried/freedesktop.sig\n",
      "/usr/share/siegfried/loc.sig\n",
      "/usr/share/siegfried/pronom-tika-loc.sig\n",
      "/usr/share/siegfried/tika.sig\n"
     ]
    }
   ],
   "source": [
    "ls /usr/share/siegfried/*.sig"
   ]
  },
  {
   "cell_type": "code",
   "execution_count": null,
   "metadata": {},
   "outputs": [],
   "source": []
  }
 ],
 "metadata": {
  "kernelspec": {
   "display_name": "Bash",
   "language": "bash",
   "name": "bash"
  },
  "language_info": {
   "codemirror_mode": "shell",
   "file_extension": ".sh",
   "mimetype": "text/x-sh",
   "name": "bash"
  }
 },
 "nbformat": 4,
 "nbformat_minor": 2
}
