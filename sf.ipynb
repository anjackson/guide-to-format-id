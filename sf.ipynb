{
 "cells": [
  {
   "cell_type": "code",
   "execution_count": 1,
   "metadata": {},
   "outputs": [
    {
     "name": "stdout",
     "output_type": "stream",
     "text": [
      "2019/06/14 22:45:23 [FATAL] expecting one or more file or directory arguments (or '-' to scan stdin)\n"
     ]
    },
    {
     "ename": "",
     "evalue": "1",
     "output_type": "error",
     "traceback": []
    }
   ],
   "source": [
    "sf"
   ]
  },
  {
   "cell_type": "code",
   "execution_count": 2,
   "metadata": {},
   "outputs": [
    {
     "name": "stdout",
     "output_type": "stream",
     "text": [
      "Usage of sf:\n",
      "  -coe\n",
      "    \tcontinue on fatal errors during directory walks (this may result in directories being skipped)\n",
      "  -conf string\n",
      "    \tset the configuration file\n",
      "  -csv\n",
      "    \tCSV output format\n",
      "  -droid\n",
      "    \tDROID CSV output format\n",
      "  -f\tscan one (or more) lists of filenames e.g. sf -f myfiles.txt\n",
      "  -fpr\n",
      "    \tstart siegfried fpr server at /tmp/siegfried\n",
      "  -hash string\n",
      "    \tcalculate file checksum with hash algorithm; options 'md5', 'sha1', 'sha256', 'sha512', 'crc'\n",
      "  -home string\n",
      "    \toverride the default home directory (default \"/usr/share/siegfried\")\n",
      "  -json\n",
      "    \tJSON output format\n",
      "  -log string\n",
      "    \tlog errors, warnings, debug or slow output, knowns or unknowns to stderr or stdout e.g. -log error,warn,unknown,stdout (default \"error\")\n",
      "  -multi int\n",
      "    \tset number of parallel file ID processes (default 1)\n",
      "  -name string\n",
      "    \tprovide a filename when scanning a stream e.g. sf -name myfile.txt -\n",
      "  -nr\n",
      "    \tprevent automatic directory recursion\n",
      "  -replay\n",
      "    \treplay one (or more) results files to change output or logging e.g. sf -replay -csv results.yaml\n",
      "  -serve string\n",
      "    \tstart siegfried server e.g. -serve localhost:5138\n",
      "  -setconf\n",
      "    \trecord flags used with this command in configuration file\n",
      "  -sig string\n",
      "    \tset the signature file (default \"default.sig\")\n",
      "  -throttle duration\n",
      "    \tset a time to wait between scanning files e.g. 50ms\n",
      "  -update\n",
      "    \tupdate or install the default signature file\n",
      "  -version\n",
      "    \tdisplay version information\n",
      "  -yaml\n",
      "    \tYAML output format (default true)\n",
      "  -z\tscan archive formats (zip, tar, gzip, warc, arc)\n"
     ]
    },
    {
     "ename": "",
     "evalue": "2",
     "output_type": "error",
     "traceback": []
    }
   ],
   "source": [
    "sf -h"
   ]
  },
  {
   "cell_type": "code",
   "execution_count": null,
   "metadata": {},
   "outputs": [],
   "source": []
  },
  {
   "cell_type": "code",
   "execution_count": null,
   "metadata": {},
   "outputs": [],
   "source": []
  }
 ],
 "metadata": {
  "kernelspec": {
   "display_name": "Bash",
   "language": "bash",
   "name": "bash"
  },
  "language_info": {
   "codemirror_mode": "shell",
   "file_extension": ".sh",
   "mimetype": "text/x-sh",
   "name": "bash"
  }
 },
 "nbformat": 4,
 "nbformat_minor": 2
}
